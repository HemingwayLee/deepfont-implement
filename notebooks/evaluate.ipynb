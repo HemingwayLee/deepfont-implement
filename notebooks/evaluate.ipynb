{
 "cells": [
  {
   "cell_type": "code",
   "execution_count": 1,
   "id": "df818cdc",
   "metadata": {},
   "outputs": [],
   "source": [
    "from matplotlib.pyplot import imshow\n",
    "import matplotlib.pylab as plt\n",
    "import PIL\n",
    "import numpy as np\n",
    "from tensorflow.keras.utils import img_to_array\n",
    "from keras.models import load_model\n",
    "\n",
    "\n",
    "def rev_conv_label(label):\n",
    "    if label == 0 :\n",
    "        return 'AvenirNext'\n",
    "    elif label == 1:\n",
    "        return 'Keyboard'\n",
    "    elif label == 2 :\n",
    "        return 'SFCompactRounded-Bold'\n",
    "    elif label == 3 :\n",
    "        return 'Times'\n",
    "\n",
    "\n",
    "def get_data(img_path):\n",
    "    pil_im =PIL.Image.open(img_path).convert('L')\n",
    "    pil_im=pil_im.resize((105,105))\n",
    "    org_img = img_to_array(pil_im)\n",
    "    data=[]\n",
    "    data.append(org_img)\n",
    "    data = np.asarray(data, dtype=\"float\") / 255.0\n",
    "\n",
    "    return data\n"
   ]
  },
  {
   "cell_type": "code",
   "execution_count": null,
   "id": "f9522a9e",
   "metadata": {},
   "outputs": [],
   "source": [
    "data = get_data('../test_data/Times.jpg')\n",
    "\n",
    "model = load_model('../top_model.h5')\n",
    "\n",
    "# y = model.predict_classes(data)\n",
    "predict_y=model.predict(data) \n",
    "classes_y=np.argmax(predict_y, axis=1)\n",
    "\n",
    "label = rev_conv_label(int(classes_y))\n",
    "print(f\"{img_path}: {label}\")"
   ]
  },
  {
   "cell_type": "code",
   "execution_count": null,
   "id": "95ecc57e",
   "metadata": {},
   "outputs": [],
   "source": []
  }
 ],
 "metadata": {
  "kernelspec": {
   "display_name": "Python 3",
   "language": "python",
   "name": "python3"
  },
  "language_info": {
   "codemirror_mode": {
    "name": "ipython",
    "version": 3
   },
   "file_extension": ".py",
   "mimetype": "text/x-python",
   "name": "python",
   "nbconvert_exporter": "python",
   "pygments_lexer": "ipython3",
   "version": "3.7.15"
  }
 },
 "nbformat": 4,
 "nbformat_minor": 5
}
